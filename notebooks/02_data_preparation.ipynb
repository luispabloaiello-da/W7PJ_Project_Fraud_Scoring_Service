{
 "cells": [
  {
   "cell_type": "code",
   "execution_count": 1,
   "id": "d8cbb607",
   "metadata": {},
   "outputs": [],
   "source": [
    "### Day 2 feature engineering create src/feature_engineering.py logic ###\n",
    "\n",
    "# Selection: You need drop columns that don't help (ID's, Free Text) \n",
    "# Transformation: Encode categories, scale numbers.abs\n",
    "# Creation: We build new ones as seen in theory today like total money spend or time gap\n",
    "\n",
    "    # Model Constraints\n",
    "# KNN ==> Need scaled numeric features\n",
    "# Trees ==> Work with raw or encoded data\n",
    "# Logistic Regression ==> Needs clean, linear features.  \n",
    "\n",
    "    #Evaluation Metrics\n",
    "# Accuracy = correct predictions / total\n",
    "\n",
    "# Precision = true frauds / predicted frauds\n",
    "\n",
    "# Recall = true frauds / actual frauds\n",
    "\n",
    "# F1 Score = balance between precision and recall\n",
    "\n",
    "   # Create the function engineer_features(df) in src/feature_engineering.py\n",
    "\n",
    "   #def engineer_features(df):\n",
    "    # Encode categoricals\n",
    "    #df = pd.get_dummies(df, columns=['merchant_type', 'location'], drop_first=True)\n",
    "\n",
    "    # Scale numerics\n",
    "    #scaler = StandardScaler()\n",
    "    #df[['amount', 'time_gap']] = scaler.fit_transform(df[['amount', 'time_gap']])\n",
    "\n",
    "    # Create derived features\n",
    "    #df['TotalSpend'] = df[['amount1', 'amount2', 'amount3']].sum(axis=1)\n",
    "    #df['TimeSinceLast'] = df['timestamp'].diff().fillna(0)\n",
    "\n",
    "   # return df\n",
    "\n",
    "\n",
    "    # Notes \n",
    "\n",
    "# We encoded merchant type and location to make them usable by ML models.\n",
    "\n",
    "# We scaled amount and time gap to help KNN and Logistic Regression.\n",
    "\n",
    "# We created TotalSpend and TimeSinceLast to capture user behavior.\n",
    "\n",
    "# Now the data is clean, transformed, and ready for modeling."
   ]
  },
  {
   "cell_type": "code",
   "execution_count": 2,
   "id": "4055b6a6",
   "metadata": {},
   "outputs": [
    {
     "name": "stdout",
     "output_type": "stream",
     "text": [
      "     amount  time_gap  amount1  amount2  amount3           timestamp  \\\n",
      "0 -0.601093 -0.539164       50    70.50        0 2025-10-14 10:00:00   \n",
      "1  1.409156  1.401826      200   360.00        0 2025-10-14 10:02:00   \n",
      "2 -0.808064 -0.862662       25    50.25        0 2025-10-14 10:05:00   \n",
      "\n",
      "   merchant_type_grocery  location_NY  location_TX  TotalSpend  TimeSinceLast  \n",
      "0                   True         True        False      120.50            0.0  \n",
      "1                  False        False        False      560.00          120.0  \n",
      "2                   True        False         True       75.25          180.0  \n"
     ]
    }
   ],
   "source": [
    "# Test \n",
    "\n",
    "import pandas as pd\n",
    "import sys\n",
    "sys.path.append('../')  # go up one level to access src\n",
    "from src.feature_engineering import engineer_features\n",
    "\n",
    "# Sample test data\n",
    "data = {\n",
    "    'merchant_type': ['grocery', 'electronics', 'grocery'],\n",
    "    'location': ['NY', 'CA', 'TX'],\n",
    "    'amount': [120.5, 560.0, 75.25],\n",
    "    'time_gap': [30, 120, 15],\n",
    "    'amount1': [50, 200, 25],\n",
    "    'amount2': [70.5, 360, 50.25],\n",
    "    'amount3': [0, 0, 0],\n",
    "    'timestamp': pd.to_datetime(['2025-10-14 10:00:00', '2025-10-14 10:02:00', '2025-10-14 10:05:00'])\n",
    "}\n",
    "\n",
    "df_test = pd.DataFrame(data)\n",
    "\n",
    "# Run feature engineering\n",
    "df_transformed = engineer_features(df_test)\n",
    "\n",
    "# Show result\n",
    "print(df_transformed.head())"
   ]
  }
 ],
 "metadata": {
  "kernelspec": {
   "display_name": "base",
   "language": "python",
   "name": "python3"
  },
  "language_info": {
   "codemirror_mode": {
    "name": "ipython",
    "version": 3
   },
   "file_extension": ".py",
   "mimetype": "text/x-python",
   "name": "python",
   "nbconvert_exporter": "python",
   "pygments_lexer": "ipython3",
   "version": "3.13.5"
  }
 },
 "nbformat": 4,
 "nbformat_minor": 5
}
