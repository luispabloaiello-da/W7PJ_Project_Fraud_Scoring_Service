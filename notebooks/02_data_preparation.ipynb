{
 "cells": [
  {
   "cell_type": "code",
   "execution_count": null,
   "id": "d8cbb607",
   "metadata": {},
   "outputs": [],
   "source": [
    "### Day 2 feature engineering create src/feature_engineering.py logic ###\n",
    "\n",
    "# Selection: You need drop columns that don't help (ID's, Free Text) \n",
    "# Transformation: Encode categories, scale numbers.abs\n",
    "# Creation: We build new ones as seen in theory today like total money spend or time gap\n",
    "\n",
    "    # Model Constraints\n",
    "# KNN ==> Need scaled numeric features\n",
    "# Trees ==> Work with raw or encoded data\n",
    "# Logistic Regression ==> Needs clean, linear features.  \n",
    "\n",
    "    #Evaluation Metrics\n",
    "# Accuracy = correct predictions / total\n",
    "\n",
    "# Precision = true frauds / predicted frauds\n",
    "\n",
    "# Recall = true frauds / actual frauds\n",
    "\n",
    "# F1 Score = balance between precision and recall\n",
    "\n",
    "   # Create the function engineer_features(df) in src/feature_engineering.py\n",
    "\n",
    "   def engineer_features(df):\n",
    "    # Encode categoricals\n",
    "    df = pd.get_dummies(df, columns=['merchant_type', 'location'], drop_first=True)\n",
    "\n",
    "    # Scale numerics\n",
    "    scaler = StandardScaler()\n",
    "    df[['amount', 'time_gap']] = scaler.fit_transform(df[['amount', 'time_gap']])\n",
    "\n",
    "    # Create derived features\n",
    "    df['TotalSpend'] = df[['amount1', 'amount2', 'amount3']].sum(axis=1)\n",
    "    df['TimeSinceLast'] = df['timestamp'].diff().fillna(0)\n",
    "\n",
    "    return df\n",
    "\n",
    "\n",
    "    # Notes \n",
    "\n",
    "# We encoded merchant type and location to make them usable by ML models.\n",
    "\n",
    "# We scaled amount and time gap to help KNN and Logistic Regression.\n",
    "\n",
    "# We created TotalSpend and TimeSinceLast to capture user behavior.\n",
    "\n",
    "# Now the data is clean, transformed, and ready for modeling."
   ]
  }
 ],
 "metadata": {
  "language_info": {
   "name": "python"
  }
 },
 "nbformat": 4,
 "nbformat_minor": 5
}
